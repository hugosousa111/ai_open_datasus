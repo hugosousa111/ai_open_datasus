{
 "cells": [
  {
   "cell_type": "markdown",
   "id": "e6709860-0476-4f46-be7a-7e464b2346a9",
   "metadata": {},
   "source": [
    "# Imports"
   ]
  },
  {
   "cell_type": "code",
   "execution_count": null,
   "id": "e3121cde-83f7-47d7-a997-ddacf0cb042a",
   "metadata": {},
   "outputs": [],
   "source": [
    "import pandas as pd"
   ]
  },
  {
   "cell_type": "code",
   "execution_count": null,
   "id": "c4147686-2a8d-4c71-83b3-ee6897abf904",
   "metadata": {},
   "outputs": [],
   "source": [
    "pd.set_option(\"display.max_columns\", None)\n",
    "pd.set_option(\"display.max_rows\", None)\n",
    "# pd.reset_option('display.max_columns')\n",
    "# pd.reset_option('display.max_rows')"
   ]
  },
  {
   "cell_type": "markdown",
   "id": "98a3332e-2634-453f-a74d-582259a5bc88",
   "metadata": {},
   "source": [
    "# Dataset"
   ]
  },
  {
   "cell_type": "code",
   "execution_count": null,
   "id": "08ff2a7c-859a-414d-8067-8b3ae5d9a5c6",
   "metadata": {},
   "outputs": [],
   "source": [
    "caminho_do_arquivo = \"../data/01_raw/INFLUD25-11-08-2025.csv\""
   ]
  },
  {
   "cell_type": "code",
   "execution_count": null,
   "id": "64ecccfc-031f-40da-8eb3-cbf8e78f2145",
   "metadata": {},
   "outputs": [],
   "source": [
    "df = pd.read_csv(caminho_do_arquivo, sep=\";\")"
   ]
  },
  {
   "cell_type": "markdown",
   "id": "9615e026-29ec-4f62-94a8-c995f6041853",
   "metadata": {},
   "source": [
    "## Dicionario"
   ]
  },
  {
   "cell_type": "code",
   "execution_count": null,
   "id": "0984b8d6-c120-48b8-994c-b179f36cffa7",
   "metadata": {},
   "outputs": [],
   "source": [
    "caminho_do_arquivo = \"../data/02-intermediate/dicionario.csv\""
   ]
  },
  {
   "cell_type": "code",
   "execution_count": null,
   "id": "6d315ada-d135-4a2e-a581-723604f0d2ba",
   "metadata": {},
   "outputs": [],
   "source": [
    "dicionario = pd.read_csv(caminho_do_arquivo, sep=\",\")"
   ]
  },
  {
   "cell_type": "code",
   "execution_count": null,
   "id": "d1a97289-0d8d-4a6b-8cfb-46d8b9eb4032",
   "metadata": {
    "scrolled": true
   },
   "outputs": [],
   "source": [
    "dicionario"
   ]
  },
  {
   "cell_type": "markdown",
   "id": "e2e8164d-ac76-4fa6-9cf5-e47b85d7d23c",
   "metadata": {},
   "source": [
    "# Explore Dataset"
   ]
  },
  {
   "cell_type": "code",
   "execution_count": null,
   "id": "b463cf89-2809-4b6b-b269-56a63b568052",
   "metadata": {},
   "outputs": [],
   "source": [
    "df.info()"
   ]
  },
  {
   "cell_type": "code",
   "execution_count": null,
   "id": "ea8a66f3-cc1b-4ec2-9e77-94852cdd1d76",
   "metadata": {},
   "outputs": [],
   "source": [
    "df.index"
   ]
  },
  {
   "cell_type": "code",
   "execution_count": null,
   "id": "4a6e0fe0-be85-4f48-b30c-ef0bb37c5c21",
   "metadata": {
    "scrolled": true
   },
   "outputs": [],
   "source": [
    "df.head()"
   ]
  },
  {
   "cell_type": "code",
   "execution_count": null,
   "id": "551cf194-c518-4607-834a-e44393c63f0a",
   "metadata": {},
   "outputs": [],
   "source": [
    "df.shape"
   ]
  },
  {
   "cell_type": "code",
   "execution_count": null,
   "id": "66f1d528-cf41-4639-b060-31c086b18fdb",
   "metadata": {},
   "outputs": [],
   "source": [
    "df.columns"
   ]
  },
  {
   "cell_type": "code",
   "execution_count": null,
   "id": "768f26ff-78eb-4ad6-a154-3e5b7e0f1fbf",
   "metadata": {
    "scrolled": true
   },
   "outputs": [],
   "source": [
    "df.dtypes"
   ]
  },
  {
   "cell_type": "code",
   "execution_count": null,
   "id": "866bae68-3939-4e1e-b824-ea8c97da54bf",
   "metadata": {
    "scrolled": true
   },
   "outputs": [],
   "source": [
    "# df.describe()"
   ]
  },
  {
   "cell_type": "code",
   "execution_count": null,
   "id": "aef8abb1-8c24-4955-8a02-6c8dc4887fad",
   "metadata": {
    "scrolled": true
   },
   "outputs": [],
   "source": [
    "# Analisando as colunas e a quantidade (porcentagem) de valores nulos\n",
    "porcentagens = (df.isnull().sum() / len(df)) * 100\n",
    "porcentagens"
   ]
  },
  {
   "cell_type": "markdown",
   "id": "939bfd99-9e45-489c-aca7-fdd8c13bdb0f",
   "metadata": {},
   "source": [
    "# Filter Dataset"
   ]
  },
  {
   "cell_type": "code",
   "execution_count": null,
   "id": "c842e4f1-5ccb-4b6c-a687-2bd8d59a0dd5",
   "metadata": {},
   "outputs": [],
   "source": [
    "def colunas_com_nulos_acima_da_porcentagem(df, porcentagem_limite):\n",
    "    \"\"\"\n",
    "    Retorna uma lista das colunas que têm mais valores nulos\n",
    "    do que o limite de porcentagem especificado.\n",
    "\n",
    "    Args:\n",
    "        df (pd.DataFrame): O DataFrame a ser analisado.\n",
    "        porcentagem_limite (float): A porcentagem limite (ex: 20 para 20%).\n",
    "\n",
    "    Returns:\n",
    "        list: Uma lista com os nomes das colunas.\n",
    "    \"\"\"\n",
    "    porcentagens = (df.isnull().sum() / len(df)) * 100\n",
    "    colunas_acima_do_limite = porcentagens[\n",
    "        porcentagens > porcentagem_limite\n",
    "    ].index.tolist()\n",
    "    return colunas_acima_do_limite\n",
    "\n",
    "\n",
    "def colunas_com_nulos_abaixo_da_porcentagem(df, porcentagem_limite):\n",
    "    \"\"\"\n",
    "    Retorna uma lista das colunas que têm menos valores nulos\n",
    "    do que o limite de porcentagem especificado.\n",
    "\n",
    "    Args:\n",
    "        df (pd.DataFrame): O DataFrame a ser analisado.\n",
    "        porcentagem_limite (float): A porcentagem limite (ex: 20 para 20%).\n",
    "\n",
    "    Returns:\n",
    "        list: Uma lista com os nomes das colunas.\n",
    "    \"\"\"\n",
    "    porcentagens = (df.isnull().sum() / len(df)) * 100\n",
    "    colunas_acima_do_limite = porcentagens[\n",
    "        porcentagens <= porcentagem_limite\n",
    "    ].index.tolist()\n",
    "    return colunas_acima_do_limite"
   ]
  },
  {
   "cell_type": "code",
   "execution_count": null,
   "id": "190d9b14-8374-4fab-a777-37f8b906f047",
   "metadata": {},
   "outputs": [],
   "source": [
    "colunas_problema = colunas_com_nulos_acima_da_porcentagem(df, 20)"
   ]
  },
  {
   "cell_type": "code",
   "execution_count": null,
   "id": "9a7a2f4b-ef75-4803-bbb7-bfa0f6badd51",
   "metadata": {},
   "outputs": [],
   "source": [
    "# Removendo todas as colunas com mais de 20% de valores nulos\n",
    "## Caso perceba que alguma das colunas excluídas era importante\n",
    "## para a construção das métricas/gráficos, eu pego ela depois\n",
    "df_filter = df.drop(columns=colunas_problema)"
   ]
  },
  {
   "cell_type": "code",
   "execution_count": null,
   "id": "f4896b0a-a922-4212-bbcc-f459f42e760a",
   "metadata": {},
   "outputs": [],
   "source": [
    "df_filter.head()"
   ]
  },
  {
   "cell_type": "code",
   "execution_count": null,
   "id": "0d150cdd-53c5-4ae5-b96a-5a7f5650f34a",
   "metadata": {},
   "outputs": [],
   "source": [
    "df_filter.shape"
   ]
  },
  {
   "cell_type": "code",
   "execution_count": null,
   "id": "66e2a3dd-cb08-44e5-bfe2-13c074dea520",
   "metadata": {
    "scrolled": true
   },
   "outputs": [],
   "source": [
    "porcentagens = (df_filter.isnull().sum() / len(df)) * 100\n",
    "porcentagens"
   ]
  },
  {
   "cell_type": "code",
   "execution_count": null,
   "id": "2c14f470-a7c0-49ba-a511-ea9483fe785c",
   "metadata": {},
   "outputs": [],
   "source": [
    "# Estas colunas não tem valores nulos\n",
    "colunas_com_nulos_abaixo_da_porcentagem(df, 0)"
   ]
  },
  {
   "cell_type": "code",
   "execution_count": null,
   "id": "bcc970eb-2648-4fc4-97d7-c556da3406b7",
   "metadata": {},
   "outputs": [],
   "source": [
    "df_filter.head()"
   ]
  },
  {
   "cell_type": "code",
   "execution_count": null,
   "id": "11290215-e52d-4ce8-a6f4-216d8b1922cb",
   "metadata": {},
   "outputs": [],
   "source": [
    "df_filter.columns"
   ]
  },
  {
   "cell_type": "code",
   "execution_count": null,
   "id": "c1a17f78-d7b6-42e8-89cf-a2259c17ea1a",
   "metadata": {
    "scrolled": true
   },
   "outputs": [],
   "source": [
    "valores_unicos = df.nunique()\n",
    "print(valores_unicos)"
   ]
  },
  {
   "cell_type": "markdown",
   "id": "dcc20504-810e-4c88-b8a6-aee747d2f362",
   "metadata": {},
   "source": [
    "# Análise por coluna"
   ]
  },
  {
   "cell_type": "code",
   "execution_count": null,
   "id": "ea665332-8e72-49b2-8ccc-de8dd0ab41f9",
   "metadata": {},
   "outputs": [],
   "source": [
    "def analisar_dataframe_com_dicionario(df, dicionario):\n",
    "    \"\"\"\n",
    "    Analisa um DataFrame e imprime informações detalhadas para cada coluna,\n",
    "    incluindo dados de um dicionário de campos.\n",
    "\n",
    "    Args:\n",
    "        df (pd.DataFrame): O DataFrame a ser analisado.\n",
    "        dicionario (pd.DataFrame): O DataFrame que contém o dicionário de campos.\n",
    "    \"\"\"\n",
    "    print(\"Análise do DataFrame:\\n\")\n",
    "    for column in df.columns:\n",
    "        print(f\"* Análise da Coluna: '{column}'\")\n",
    "\n",
    "        # Busca as informações da coluna no dicionário\n",
    "        info_dicionario = dicionario[dicionario[\"DBF\"] == column]\n",
    "        if info_dicionario.empty:\n",
    "            info_dicionario = dicionario[\n",
    "                dicionario[\"DBF\"].str.contains(column, case=False, na=False)\n",
    "            ]\n",
    "        if not info_dicionario.empty:\n",
    "            DBF = info_dicionario[\"DBF\"].iloc[0]\n",
    "            nome_campo = info_dicionario[\"Nome do campo\"].iloc[0]\n",
    "            descricao = info_dicionario[\"Descrição\"].iloc[0]\n",
    "            print(f\"* DBF: {DBF}\")\n",
    "            print(f\"* Nome do Campo: {nome_campo}\")\n",
    "            print(f\"* Descrição: {descricao}\")\n",
    "        else:\n",
    "            print(\"* Informações do dicionário não encontradas para esta coluna.\")\n",
    "\n",
    "        # Tipo de dado\n",
    "        print(f\"* Tipo: {df[column].dtype}\")\n",
    "\n",
    "        # Valores nulos\n",
    "        nulos_quantidade = df[column].isnull().sum()\n",
    "        nulos_porcentagem = (nulos_quantidade / len(df)) * 100\n",
    "        print(f\"* Valores Nulos: {nulos_quantidade} ({nulos_porcentagem:.2f}%)\")\n",
    "\n",
    "        # Primeiros e últimos valores\n",
    "        print(f\"* Primeiros 2 valores: {df[column].head(2).tolist()}\")\n",
    "        print(f\"* Últimos 2 valores: {df[column].tail(2).tolist()}\")\n",
    "\n",
    "        # Valores mais comuns\n",
    "        print(\"* Valores mais comuns:\")\n",
    "        top_3_comuns = df[column].value_counts().head(3)\n",
    "        for valor, contagem in top_3_comuns.items():\n",
    "            print(f\"\\t* Valor: '{valor}', Contagem: {contagem}\")\n",
    "\n",
    "        print(\"\\n\")"
   ]
  },
  {
   "cell_type": "code",
   "execution_count": null,
   "id": "58c27b73-08d2-4542-881c-c3b2db090b09",
   "metadata": {},
   "outputs": [],
   "source": [
    "df_filter.head()"
   ]
  },
  {
   "cell_type": "code",
   "execution_count": null,
   "id": "46d4f838-9e00-4777-8d35-dd815196514e",
   "metadata": {
    "scrolled": true
   },
   "outputs": [],
   "source": [
    "analisar_dataframe_com_dicionario(df_filter, dicionario)"
   ]
  },
  {
   "cell_type": "markdown",
   "id": "ce9c43b2-bcbe-4d4e-b7c2-9906e1cd5db2",
   "metadata": {},
   "source": [
    "# Colunas para DROP e justificativas\n",
    "\n",
    "* NU_NOTIFIC: id, um valor por amostra\n",
    "* SEM_NOT: semana, não relevante\n",
    "* DT_SIN_PRI: data dos primeiros sintomas\n",
    "* SEM_PRI: semana, não relevante\n",
    "* ID_REGIONA: regiao\n",
    "* CO_REGIONA: código da região\n",
    "* CO_MUN_NOT: código do município\n",
    "* NU_IDADE_N: remover pq vou usar a data de nasc\n",
    "* TP_IDADE: tipo idade\n",
    "* COD_IDADE\n",
    "* CS_GESTANT: gestante\n",
    "* CS_RACA: cor/raça\n",
    "* ID_PAIS: país\n",
    "* CO_PAIS: país\n",
    "* SG_UF: onde mora\n",
    "* ID_RG_RESI: onde mora\n",
    "* CO_RG_RESI: onde mora\n",
    "* ID_MN_RESI: onde mora\n",
    "* CO_MUN_RES: onde mora\n",
    "* CS_ZONA: onde mora\n",
    "* NOSOCOMIAL: não me interessa\n",
    "* AVE_SUINO: não me interessa\n",
    "* FEBRE: sintomas, não me interessa\n",
    "* TOSSE: sintomas, não me interessa\n",
    "* GARGANTA: sintomas, não me interessa\n",
    "* DISPNEIA: sintomas, não me interessa\n",
    "* DESC_RESP: sintomas, não me interessa\n",
    "* SATURACAO: sintomas, não me interessa\n",
    "* DIARREIA: sintomas, não me interessa\n",
    "* VOMITO: sintomas, não me interessa\n",
    "* ANTIVIRAL: não me interessa\n",
    "* DT_INTERNA: data internação\n",
    "* SG_UF_INTE: lugar internação\n",
    "* ID_MN_INTE: lugar internação\n",
    "* CO_MU_INTE: lugar internação\n",
    "* NM_UN_INTE: lugar internação\n",
    "* SUPORT_VEN: suporte ventilatorio\n",
    "* AMOSTRA: amostra\n",
    "* DT_COLETA: amostra\n",
    "* TP_AMOSTRA: amostra\n",
    "* PCR_RESUL: não interessa pcr\n",
    "* CLASSI_FIN: todos são SRAG\n",
    "* CRITERIO: não interessa\n",
    "* DT_ENCERRA: data de encerramento\n",
    "* DT_DIGITA: data digitação\n",
    "* HISTO_VGM\n",
    "* FADIGA: sintomas, não me interessa\n",
    "* RES_AN: teste, não interessa\n",
    "* POV_CT: indigena\n",
    "* TEM_CPF: não precisa\n",
    "* ESTRANG: não precisa\n",
    "* FNT_IN_COV: fonte info vacina\n",
    "* REINF: só um valor"
   ]
  },
  {
   "cell_type": "code",
   "execution_count": null,
   "id": "b41d565e-afb1-45f5-b254-8d0cf1e933b4",
   "metadata": {},
   "outputs": [],
   "source": [
    "lista_colunas_drop = [\n",
    "    \"NU_NOTIFIC\",\n",
    "    \"SEM_NOT\",\n",
    "    \"DT_SIN_PRI\",\n",
    "    \"SEM_PRI\",\n",
    "    \"ID_REGIONA\",\n",
    "    \"CO_REGIONA\",\n",
    "    \"CO_MUN_NOT\",\n",
    "    \"NU_IDADE_N\",\n",
    "    \"TP_IDADE\",\n",
    "    \"COD_IDADE\",\n",
    "    \"CS_GESTANT\",\n",
    "    \"CS_RACA\",\n",
    "    \"ID_PAIS\",\n",
    "    \"CO_PAIS\",\n",
    "    \"SG_UF\",\n",
    "    \"ID_RG_RESI\",\n",
    "    \"CO_RG_RESI\",\n",
    "    \"ID_MN_RESI\",\n",
    "    \"CO_MUN_RES\",\n",
    "    \"CS_ZONA\",\n",
    "    \"NOSOCOMIAL\",\n",
    "    \"AVE_SUINO\",\n",
    "    \"FEBRE\",\n",
    "    \"TOSSE\",\n",
    "    \"GARGANTA\",\n",
    "    \"DISPNEIA\",\n",
    "    \"DESC_RESP\",\n",
    "    \"SATURACAO\",\n",
    "    \"DIARREIA\",\n",
    "    \"VOMITO\",\n",
    "    \"ANTIVIRAL\",\n",
    "    \"DT_INTERNA\",\n",
    "    \"SG_UF_INTE\",\n",
    "    \"ID_MN_INTE\",\n",
    "    \"CO_MU_INTE\",\n",
    "    \"NM_UN_INTE\",\n",
    "    \"SUPORT_VEN\",\n",
    "    \"AMOSTRA\",\n",
    "    \"DT_COLETA\",\n",
    "    \"TP_AMOSTRA\",\n",
    "    \"PCR_RESUL\",\n",
    "    \"CLASSI_FIN\",\n",
    "    \"CRITERIO\",\n",
    "    \"DT_ENCERRA\",\n",
    "    \"DT_DIGITA\",\n",
    "    \"HISTO_VGM\",\n",
    "    \"FADIGA\",\n",
    "    \"RES_AN\",\n",
    "    \"POV_CT\",\n",
    "    \"TEM_CPF\",\n",
    "    \"ESTRANG\",\n",
    "    \"FNT_IN_COV\",\n",
    "    \"REINF\",\n",
    "]"
   ]
  },
  {
   "cell_type": "code",
   "execution_count": null,
   "id": "99a6f323-7f0b-460c-bb92-c815b60b6d6d",
   "metadata": {},
   "outputs": [],
   "source": [
    "df_filter_2 = df_filter.drop(columns=lista_colunas_drop)"
   ]
  },
  {
   "cell_type": "code",
   "execution_count": null,
   "id": "248b1ec5-838e-41fa-bd27-9f2567f551eb",
   "metadata": {},
   "outputs": [],
   "source": [
    "df_filter_2.head(3)"
   ]
  },
  {
   "cell_type": "markdown",
   "id": "a8c3c0f3-5200-495c-8490-ab461498df2b",
   "metadata": {},
   "source": [
    "# Colunas Importantes\n",
    "\n",
    "* DT_NOTIFIC: data\n",
    "* UTI\n",
    "* EVOLUCAO: morte\n",
    "* VACINA: vacina da gripe\n",
    "* VACINA_COV: vacina covid\n",
    "\n",
    "Para uma evolução do projeto: \n",
    "\n",
    "* SG_UF_NOT: estado, onde foi registrado (*)\n",
    "* ID_MUNICIP: municipio, onde foi registrado (*)\n",
    "* CS_SEXO: sexo (*)\n",
    "* HOSPITAL: internaçao (*)\n",
    "* DT_NASC: data de nascimento (*)"
   ]
  },
  {
   "cell_type": "code",
   "execution_count": null,
   "id": "479570ce-9d18-40e7-9eea-eb1577ede7ad",
   "metadata": {},
   "outputs": [],
   "source": [
    "lista_colunas_importantes = [\"DT_NOTIFIC\", \"UTI\", \"EVOLUCAO\", \"VACINA\", \"VACINA_COV\"]"
   ]
  },
  {
   "cell_type": "code",
   "execution_count": null,
   "id": "5fc589b4-e4a4-48c5-b40c-950b84af7158",
   "metadata": {},
   "outputs": [],
   "source": [
    "df_final = df_filter_2[lista_colunas_importantes]"
   ]
  },
  {
   "cell_type": "code",
   "execution_count": null,
   "id": "7fe1f36a-8b07-437f-a5a5-ac3a2947e428",
   "metadata": {},
   "outputs": [],
   "source": [
    "df_final.head()"
   ]
  },
  {
   "cell_type": "code",
   "execution_count": null,
   "id": "3f1a573c-3cd4-425c-a83f-eba145bf4e76",
   "metadata": {},
   "outputs": [],
   "source": [
    "porcentagens = (df_final.isnull().sum() / len(df_final)) * 100\n",
    "porcentagens"
   ]
  },
  {
   "cell_type": "code",
   "execution_count": null,
   "id": "37e368a9-8582-42e3-ac25-79c8e918838d",
   "metadata": {},
   "outputs": [],
   "source": [
    "df_final.dtypes"
   ]
  },
  {
   "cell_type": "markdown",
   "id": "8b99edf8-dea9-4e0d-8a9e-27ab6609602c",
   "metadata": {},
   "source": [
    "# Corrigindo por Coluna de interesse\n",
    "\n",
    "* Corrigir NaN\n",
    "* Corrigir o Tipo da coluna\n",
    "* Corrigir os valores de cada coluna (olhar significado da coluna no dicionário)\n",
    "* O que fazer com os casos não informados? \n",
    "* Unir ou não vacinas? (voto em não, e fazer duas métricas diferentes, ou 3, com uma unida)"
   ]
  },
  {
   "cell_type": "code",
   "execution_count": null,
   "id": "f152e1f5-760f-4337-8314-098a4f9cc469",
   "metadata": {},
   "outputs": [],
   "source": [
    "def analisar_coluna_dataframe(df, column):\n",
    "    \"\"\"\n",
    "    Analisa um DataFrame e imprime informações detalhadas para a coluna\n",
    "\n",
    "    Args:\n",
    "        df (pd.DataFrame): O DataFrame a ser analisado.\n",
    "        column (str): Coluna a ser analaisada.\n",
    "    \"\"\"\n",
    "    print(f\"* Análise da Coluna: '{column}'\")\n",
    "\n",
    "    # Tipo de dado\n",
    "    print(f\"* Tipo: {df[column].dtype}\")\n",
    "\n",
    "    # Valores nulos\n",
    "    nulos_quantidade = df[column].isnull().sum()\n",
    "    nulos_porcentagem = (nulos_quantidade / len(df)) * 100\n",
    "    print(f\"* Valores Nulos: {nulos_quantidade} ({nulos_porcentagem:.2f}%)\")\n",
    "\n",
    "    # Primeiros e últimos valores\n",
    "    print(f\"* Primeiros 2 valores: {df[column].head(2).tolist()}\")\n",
    "    print(f\"* Últimos 2 valores: {df[column].tail(2).tolist()}\")\n",
    "\n",
    "    # Valores mais comuns\n",
    "    print(\"* Valores mais comuns:\")\n",
    "    top_3_comuns = df[column].value_counts().head(10)\n",
    "    for valor, contagem in top_3_comuns.items():\n",
    "        print(f\"\\t* Valor: '{valor}', Contagem: {contagem}\")"
   ]
  },
  {
   "cell_type": "markdown",
   "id": "1b6b1b16-1576-46d2-81db-922d09a32c3c",
   "metadata": {},
   "source": [
    "## DT_NOTIFIC\n",
    "\n",
    "* DBF: DT_NOTIFIC\n",
    "* Nome do Campo: 1-Data do preenchimento da ficha de notificação\n",
    "* Caracteríticas: Campo Obrigatório"
   ]
  },
  {
   "cell_type": "code",
   "execution_count": null,
   "id": "4f7f2340-d0a4-44f5-af55-7afdffde72bb",
   "metadata": {},
   "outputs": [],
   "source": [
    "df_final[[\"DT_NOTIFIC\"]].head()"
   ]
  },
  {
   "cell_type": "code",
   "execution_count": null,
   "id": "55da09cf-3b8b-49ad-b857-3bf87146aaa4",
   "metadata": {},
   "outputs": [],
   "source": [
    "analisar_coluna_dataframe(df_final, \"DT_NOTIFIC\")"
   ]
  },
  {
   "cell_type": "code",
   "execution_count": null,
   "id": "2a8226b1-95f1-4581-8265-53e1a806e5cf",
   "metadata": {},
   "outputs": [],
   "source": [
    "df_final.shape"
   ]
  },
  {
   "cell_type": "code",
   "execution_count": null,
   "id": "184fc531-1bd0-4b66-a21d-f24b45ddcaed",
   "metadata": {},
   "outputs": [],
   "source": [
    "df_final.dropna(\n",
    "    subset=[\"DT_NOTIFIC\"], inplace=True\n",
    ")  # sem valores nulos, mas se tiver, seria assim a forma de excluir"
   ]
  },
  {
   "cell_type": "code",
   "execution_count": null,
   "id": "6244a1ae-57b0-42d7-bed0-aeea99275880",
   "metadata": {},
   "outputs": [],
   "source": [
    "df_final.shape"
   ]
  },
  {
   "cell_type": "code",
   "execution_count": null,
   "id": "73ca73d9-f9a1-4173-b438-cff76fc12b37",
   "metadata": {},
   "outputs": [],
   "source": [
    "## Conversão de object para datetime\n",
    "df_final[\"DT_NOTIFIC\"] = pd.to_datetime(\n",
    "    df_final[\"DT_NOTIFIC\"], format=\"%Y-%m-%d\", errors=\"coerce\"\n",
    ")"
   ]
  },
  {
   "cell_type": "code",
   "execution_count": null,
   "id": "3f81baf2-3bdf-4c17-9c93-98f5b02479d1",
   "metadata": {},
   "outputs": [],
   "source": [
    "df_final.dtypes"
   ]
  },
  {
   "cell_type": "code",
   "execution_count": null,
   "id": "6e645e7d-94b2-4ad7-b1e3-a13d8422378a",
   "metadata": {},
   "outputs": [],
   "source": [
    "analisar_coluna_dataframe(df_final, \"DT_NOTIFIC\")"
   ]
  },
  {
   "cell_type": "code",
   "execution_count": null,
   "id": "cc89cee6-0ad0-4f0a-9b35-1a06bde8b82d",
   "metadata": {},
   "outputs": [],
   "source": [
    "df_final.rename(columns={\"DT_NOTIFIC\": \"DATA_NOTIFICACAO\"}, inplace=True)"
   ]
  },
  {
   "cell_type": "markdown",
   "id": "6961f9bd-1660-4591-ac23-84ac5e53844a",
   "metadata": {},
   "source": [
    "## UTI\n",
    "\n",
    "* DBF: UTI\n",
    "* Nome do campo: 53-Internado em UTI?\n",
    "* Características: Campo Essencial \n",
    "* Categorias: \n",
    "    * 1-Sim\n",
    "    * 2-Não\n",
    "    * 9-Ignorado"
   ]
  },
  {
   "cell_type": "code",
   "execution_count": null,
   "id": "b552728a-a9eb-46cd-8736-701762e33ba0",
   "metadata": {},
   "outputs": [],
   "source": [
    "df_final[[\"UTI\"]].head()"
   ]
  },
  {
   "cell_type": "code",
   "execution_count": null,
   "id": "13ba214b-2343-4fa6-ba9e-fffd773b827d",
   "metadata": {},
   "outputs": [],
   "source": [
    "analisar_coluna_dataframe(df_final, \"UTI\")"
   ]
  },
  {
   "cell_type": "code",
   "execution_count": null,
   "id": "e34aec31-2625-44fc-bb00-46b8f5b81064",
   "metadata": {},
   "outputs": [],
   "source": [
    "df_final[\"UTI\"].fillna(9.0, inplace=True)"
   ]
  },
  {
   "cell_type": "code",
   "execution_count": null,
   "id": "799e11d7-be52-4809-893c-647213f0a916",
   "metadata": {},
   "outputs": [],
   "source": [
    "analisar_coluna_dataframe(df_final, \"UTI\")"
   ]
  },
  {
   "cell_type": "code",
   "execution_count": null,
   "id": "c2ab361c-258a-43ce-ab9b-dde199cf24ae",
   "metadata": {},
   "outputs": [],
   "source": [
    "mapeamento = {1.0: \"SIM\", 2.0: \"NÃO\", 9.0: \"IGNORADO\"}"
   ]
  },
  {
   "cell_type": "code",
   "execution_count": null,
   "id": "9933e2d7-9e5e-47c5-bfc6-5c30f39340ec",
   "metadata": {},
   "outputs": [],
   "source": [
    "df_final[\"UTI\"] = df_final[\"UTI\"].replace(mapeamento)"
   ]
  },
  {
   "cell_type": "code",
   "execution_count": null,
   "id": "6b80940a-099a-4d22-8740-520ef0c57471",
   "metadata": {},
   "outputs": [],
   "source": [
    "analisar_coluna_dataframe(df_final, \"UTI\")"
   ]
  },
  {
   "cell_type": "markdown",
   "id": "e8db8a2b-de48-4bd9-82c3-fc301cff02e6",
   "metadata": {},
   "source": [
    "## EVOLUCAO\n",
    "\n",
    "* DBF: EVOLUCAO\n",
    "* Nome do campo: 80–Evolução do caso\n",
    "* Características: Campo Essencial \n",
    "* Categorias: \n",
    "    * 1-Cura\n",
    "    * 2-Óbito\n",
    "    * 3- Óbito por outras causas\n",
    "    * 9-Ignorado"
   ]
  },
  {
   "cell_type": "code",
   "execution_count": null,
   "id": "9da9bb8e-81cd-4015-ae54-519878a54196",
   "metadata": {},
   "outputs": [],
   "source": [
    "df_final[[\"EVOLUCAO\"]].head()"
   ]
  },
  {
   "cell_type": "code",
   "execution_count": null,
   "id": "123875c0-fde6-45a8-adc1-94157f6a3543",
   "metadata": {},
   "outputs": [],
   "source": [
    "analisar_coluna_dataframe(df_final, \"EVOLUCAO\")"
   ]
  },
  {
   "cell_type": "code",
   "execution_count": null,
   "id": "99adc51c-b467-406b-885d-0bc46798f248",
   "metadata": {},
   "outputs": [],
   "source": [
    "df_final[\"EVOLUCAO\"].fillna(9.0, inplace=True)"
   ]
  },
  {
   "cell_type": "code",
   "execution_count": null,
   "id": "91b75eec-f7fa-4fef-876e-278d90bbd897",
   "metadata": {},
   "outputs": [],
   "source": [
    "analisar_coluna_dataframe(df_final, \"EVOLUCAO\")"
   ]
  },
  {
   "cell_type": "code",
   "execution_count": null,
   "id": "37763921-0898-4421-8b50-7fdce16e3238",
   "metadata": {},
   "outputs": [],
   "source": [
    "df_final[\"EVOLUCAO\"] = df_final[\"EVOLUCAO\"].replace(3, 2)"
   ]
  },
  {
   "cell_type": "code",
   "execution_count": null,
   "id": "449870e7-db8e-4d11-8c0d-45ca67992881",
   "metadata": {},
   "outputs": [],
   "source": [
    "analisar_coluna_dataframe(df_final, \"EVOLUCAO\")"
   ]
  },
  {
   "cell_type": "code",
   "execution_count": null,
   "id": "570a18d1-1a95-484f-9493-7d1717fea5f8",
   "metadata": {},
   "outputs": [],
   "source": [
    "mapeamento = {1.0: \"CURA\", 2.0: \"OBITO\", 9.0: \"IGNORADO\"}"
   ]
  },
  {
   "cell_type": "code",
   "execution_count": null,
   "id": "0c4ab13f-92a5-44d1-af65-be2e43eeeecd",
   "metadata": {},
   "outputs": [],
   "source": [
    "df_final[\"EVOLUCAO\"] = df_final[\"EVOLUCAO\"].replace(mapeamento)"
   ]
  },
  {
   "cell_type": "markdown",
   "id": "a42c1709-61b3-45c7-9449-9a0344671041",
   "metadata": {},
   "source": [
    "## VACINA\n",
    "\n",
    "* DBF: VACINA\n",
    "* Nome do campo: 40-Recebeu vacina contra Gripe na última campanha?\n",
    "* Características: Campo Essencial \n",
    "* Categorias: \n",
    "    * 1-Sim\n",
    "    * 2-Não\n",
    "    * 9-Ignorado"
   ]
  },
  {
   "cell_type": "code",
   "execution_count": null,
   "id": "eac8debd-9130-4546-8880-45ae378ccf3e",
   "metadata": {},
   "outputs": [],
   "source": [
    "df_final[[\"VACINA\"]].head()"
   ]
  },
  {
   "cell_type": "code",
   "execution_count": null,
   "id": "83568c27-8117-4497-a32f-427c4ee0281d",
   "metadata": {},
   "outputs": [],
   "source": [
    "analisar_coluna_dataframe(df_final, \"VACINA\")"
   ]
  },
  {
   "cell_type": "code",
   "execution_count": null,
   "id": "8c1546b6-1ecc-4b35-a264-8c2a1ddc2382",
   "metadata": {},
   "outputs": [],
   "source": [
    "df_final[\"VACINA\"].fillna(9.0, inplace=True)"
   ]
  },
  {
   "cell_type": "code",
   "execution_count": null,
   "id": "2789cb63-2b7a-496a-b5f2-e4acbc5c9dca",
   "metadata": {},
   "outputs": [],
   "source": [
    "analisar_coluna_dataframe(df_final, \"VACINA\")"
   ]
  },
  {
   "cell_type": "code",
   "execution_count": null,
   "id": "8b200f6d-7ab5-4902-8330-93c21f8b272d",
   "metadata": {},
   "outputs": [],
   "source": [
    "mapeamento = {1.0: \"SIM\", 2.0: \"NÃO\", 9.0: \"IGNORADO\"}"
   ]
  },
  {
   "cell_type": "code",
   "execution_count": null,
   "id": "c978f04a-797c-4e55-a909-b71a343cd174",
   "metadata": {},
   "outputs": [],
   "source": [
    "df_final[\"VACINA\"] = df_final[\"VACINA\"].replace(mapeamento)"
   ]
  },
  {
   "cell_type": "markdown",
   "id": "297b3eed-5df9-4dcc-b54c-e8172c699c19",
   "metadata": {},
   "source": [
    "## VACINA_COV\n",
    "\n",
    "* DBF: VACINA_COV\n",
    "* Nome do campo: 36 - Recebeu vacina COVID-19? \n",
    "* Características: Campo Obrigatório \n",
    "* Categorias: \n",
    "    * 1-Sim\n",
    "    * 2-Não\n",
    "    * 9-Ignorado"
   ]
  },
  {
   "cell_type": "code",
   "execution_count": null,
   "id": "0d65a1d0-6d2c-4e58-b926-2478812b0b68",
   "metadata": {},
   "outputs": [],
   "source": [
    "df_final[[\"VACINA_COV\"]].head()"
   ]
  },
  {
   "cell_type": "code",
   "execution_count": null,
   "id": "812cbeab-06d7-45fd-a708-08fd88d986ef",
   "metadata": {},
   "outputs": [],
   "source": [
    "analisar_coluna_dataframe(df_final, \"VACINA_COV\")"
   ]
  },
  {
   "cell_type": "code",
   "execution_count": null,
   "id": "ffbd7858-a2bc-4275-a08a-ef98e0574c03",
   "metadata": {},
   "outputs": [],
   "source": [
    "df_final[\"VACINA_COV\"].fillna(9.0, inplace=True)"
   ]
  },
  {
   "cell_type": "code",
   "execution_count": null,
   "id": "230dd5be-3490-419c-a955-b2d237718c83",
   "metadata": {},
   "outputs": [],
   "source": [
    "analisar_coluna_dataframe(df_final, \"VACINA_COV\")"
   ]
  },
  {
   "cell_type": "code",
   "execution_count": null,
   "id": "72bdb2ea-bc9f-4ba2-8a7c-39fd8174f559",
   "metadata": {},
   "outputs": [],
   "source": [
    "mapeamento = {1.0: \"SIM\", 2.0: \"NÃO\", 9.0: \"IGNORADO\"}"
   ]
  },
  {
   "cell_type": "code",
   "execution_count": null,
   "id": "db4f4086-2073-43b6-95b8-605c40aed985",
   "metadata": {},
   "outputs": [],
   "source": [
    "df_final[\"VACINA_COV\"] = df_final[\"VACINA_COV\"].replace(mapeamento)"
   ]
  },
  {
   "cell_type": "markdown",
   "id": "1bbbfbc8-6092-45b6-8a45-9aeee8d6b33f",
   "metadata": {},
   "source": [
    "# Dataset Final"
   ]
  },
  {
   "cell_type": "code",
   "execution_count": null,
   "id": "9bf78c43-58d6-4d03-9952-f8d85fdc2634",
   "metadata": {},
   "outputs": [],
   "source": [
    "df_final.head()"
   ]
  },
  {
   "cell_type": "code",
   "execution_count": null,
   "id": "a34d8b76-6a60-41a1-9e6f-a28bebb764bf",
   "metadata": {},
   "outputs": [],
   "source": [
    "df_final.shape"
   ]
  },
  {
   "cell_type": "code",
   "execution_count": null,
   "id": "9b3deade-d3a4-4771-b5ff-f83f2799511c",
   "metadata": {},
   "outputs": [],
   "source": [
    "(df_final.isnull().sum() / len(df_final)) * 100"
   ]
  },
  {
   "cell_type": "code",
   "execution_count": null,
   "id": "c2ce9c6e-1bcf-469c-9056-39fae5d8ebd8",
   "metadata": {},
   "outputs": [],
   "source": [
    "df_final.dtypes"
   ]
  }
 ],
 "metadata": {
  "kernelspec": {
   "display_name": "Python 3 (ipykernel)",
   "language": "python",
   "name": "python3"
  },
  "language_info": {
   "codemirror_mode": {
    "name": "ipython",
    "version": 3
   },
   "file_extension": ".py",
   "mimetype": "text/x-python",
   "name": "python",
   "nbconvert_exporter": "python",
   "pygments_lexer": "ipython3",
   "version": "3.13.5"
  }
 },
 "nbformat": 4,
 "nbformat_minor": 5
}
